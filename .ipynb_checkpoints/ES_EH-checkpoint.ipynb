{
 "cells": [
  {
   "cell_type": "markdown",
   "id": "d34f42ec-4df8-408e-9ca3-6b85cddd28fb",
   "metadata": {},
   "source": [
    "## Important Library"
   ]
  },
  {
   "cell_type": "code",
   "execution_count": 11,
   "id": "94dee75d-5fa9-4b73-b628-85cb88e5b392",
   "metadata": {},
   "outputs": [],
   "source": [
    "import numpy as np\n",
    "from sklearn import metrics as mt\n",
    "from sklearn.svm import SVC\n",
    "from sklearn.naive_bayes import GaussianNB\n",
    "from sklearn.model_selection import GridSearchCV\n",
    "from sklearn.linear_model import LogisticRegression\n",
    "from scipy import special\n",
    "# import tensorflow as tf\n",
    "# tf.autograph.set_verbosity(1)"
   ]
  },
  {
   "cell_type": "markdown",
   "id": "7611db77-6814-4952-9bd9-6283a38ef4da",
   "metadata": {},
   "source": [
    "## Monte Carlo Simulation"
   ]
  },
  {
   "cell_type": "code",
   "execution_count": 1,
   "id": "aa997a00-2a85-4d58-aa66-72ff63a296ad",
   "metadata": {},
   "outputs": [],
   "source": [
    "# import numpy as np\n",
    "variance = 2\n",
    "# T = 100e-3  # Time span for one slot 100ms\n",
    "# mu = 0.02   # Sensing duration ratio\n",
    "# t = mu*T     # Sensing time\n",
    "Pr = 0.5    # Probability of spectrum occupancy\n",
    "Pw = -60    # Primary signal power in dBm \n",
    "PowerTx = 10**(Pw/10)#*(1e-3)  # Transmitted power 0.1\n",
    "Nw = -70   # Noise power in dBm -153 or -70\n",
    "PowerNo = 10**(Nw/10)#*(1e-3) \n",
    "g = 10**(-5)  # Path loss coefficeint 10^(-5)\n",
    "# a = 4 #path loss factor\n",
    "d = 500#np.array((500, 750, 1000))  # PU-SU distance in meters\n",
    "\n",
    "\n",
    "def MCS(realize, samples, SU):\n",
    "    Y = np.zeros((realize, SU))\n",
    "    S = np.zeros((realize))\n",
    "    SNR = np.zeros((SU,realize))\n",
    " \n",
    "    noisePower = PowerNo*np.ones(SU)\n",
    "\n",
    "    for k in range(realize):\n",
    "        n = gaussianNoise(noisePower, samples)\n",
    "        H = channel(SU,samples)\n",
    "        X, S[k] = PUtx(samples, PowerTx, SU)\n",
    "        PU = np.multiply(H.T, X)\n",
    "        Z = PU + n\n",
    "        SNR[:,k] = np.mean(np.abs(PU)**2,axis=1)/noisePower[0]\n",
    "        Y[k,:] = np.sum(np.abs(Z)**2,axis=1)/(noisePower[0]*samples)\n",
    "\n",
    "    meanSNR = np.mean(SNR[:,S==1],1)\n",
    "    meanSNRdB = 10*np.log10(meanSNR)\n",
    "    return Y, S, meanSNR\n",
    "\n",
    "\n",
    "def PUtx(samples, TXPower, N):\n",
    "    S = 0\n",
    "    X = np.zeros(samples)\n",
    "    if (np.random.rand(1) <= Pr):\n",
    "        S = 1\n",
    "        X = np.random.randn(samples) * np.sqrt(TXPower)\n",
    "    X = np.vstack([X]*N)\n",
    "    return [X, S]\n",
    "\n",
    "\n",
    "def gaussianNoise(noisePower, samples):\n",
    "    N = len(noisePower)\n",
    "    n = np.random.randn(N, samples) * np.sqrt(noisePower[0])\n",
    "    return n\n",
    "\n",
    "\n",
    "def channel(N, samples):\n",
    "    H = np.zeros(N)\n",
    "    H = np.sqrt(-2 * variance * np.log(np.random.rand(N)))/np.sqrt(2)\n",
    "    H = np.array(H*np.sqrt(g*(d)))  # Fading + path-loss (amplitude loss)\n",
    "    # f = 500**(-a)\n",
    "    # H = np.array(H*np.sqrt(f))\n",
    "    H = np.vstack([H]*samples)\n",
    "    return H\n"
   ]
  },
  {
   "cell_type": "markdown",
   "id": "eb65f313-160a-421b-b1ac-37388b2ef405",
   "metadata": {},
   "source": [
    "## Data Generation"
   ]
  },
  {
   "cell_type": "code",
   "execution_count": 9,
   "id": "bf9f4d71-8461-4140-b110-dee5dc214e5b",
   "metadata": {},
   "outputs": [],
   "source": [
    "SU = 3       # No. of SU\n",
    "Eh = 0.1\n",
    "k = 2\n",
    "delta = 3\n",
    "Es = Eh/k\n",
    "Eth = delta*k*Es\n",
    "m = 20\n",
    "\n",
    "realize = 500\n",
    "realize_test = 1000\n",
    "\n",
    "Pd = []\n",
    "Pf = []\n",
    "samples = 500\n",
    "X_train, y_train, _ = MCS(realize, samples, SU)\n",
    "X_test, y_test, SNR = MCS(realize_test, samples, SU)"
   ]
  },
  {
   "cell_type": "markdown",
   "id": "8d663c60-b2cb-41bc-9e17-1d52295167cc",
   "metadata": {},
   "source": [
    "## ML aided Spectrum sening model\n",
    "### (Including NCSS and CSS)"
   ]
  },
  {
   "cell_type": "code",
   "execution_count": 32,
   "id": "9c0132ef-ad91-477f-8cb3-8221bb935d29",
   "metadata": {},
   "outputs": [],
   "source": [
    "\n",
    "Linear_SVM = GridSearchCV(\n",
    "                estimator=SVC(), \n",
    "                param_grid=[{'C': [0.2, 0.4, 0.6, 0.8, 1, 1.2, 1.4,10, 100, 1000],\n",
    "                    'gamma': [1, 0.1, 0.01, 0.001, 0.0001],\n",
    "                    'kernel': ['linear'], 'probability':[True]}], \n",
    "                scoring='accuracy',\n",
    "                n_jobs=-1, cv=10)\n",
    "\n",
    "Linear_SVM.fit(X_train, y_train)\n",
    "\n",
    "y_pred = Linear_SVM.predict(X_test)\n",
    "\n",
    "# # for ROC, probability prediction\n",
    "# y_pred2=Linear_SVM.predict_proba(X_test)\n",
    "# y_pred2=y_pred2[:,1]\n",
    "\n",
    "# fpr, tpr, _ = mt.roc_curve(y_test,  y_pred2)\n",
    "# auc = mt.auc(fpr, tpr)\n",
    "    \n",
    "\n",
    "    \n"
   ]
  },
  {
   "cell_type": "code",
   "execution_count": 41,
   "id": "943daee7-2a44-49c2-9523-e891810a15dd",
   "metadata": {},
   "outputs": [],
   "source": [
    "y_pred = Linear_SVM.predict(X_test)"
   ]
  },
  {
   "cell_type": "code",
   "execution_count": 37,
   "id": "19f4c996-38e9-4abe-877b-6f7009a440f9",
   "metadata": {},
   "outputs": [
    {
     "data": {
      "text/plain": [
       "array([0., 0.])"
      ]
     },
     "execution_count": 37,
     "metadata": {},
     "output_type": "execute_result"
    }
   ],
   "source": [
    "# y_pred\n"
   ]
  },
  {
   "cell_type": "code",
   "execution_count": 39,
   "id": "fd32d5ff-b0ea-45df-89a9-f3047ecce9d3",
   "metadata": {},
   "outputs": [
    {
     "data": {
      "text/plain": [
       "array([1., 0., 1., 1., 1., 1., 0., 1., 1., 1., 1., 0., 1., 1., 0., 1., 0.,\n",
       "       0., 1., 0., 1., 0., 1., 1., 1., 0., 1., 1., 0., 1., 0., 1., 1., 1.,\n",
       "       1., 0., 1., 0., 1., 1., 0., 1., 1., 1., 1., 0., 0., 1., 0., 0., 1.,\n",
       "       1., 0., 1., 1., 0., 1., 0., 0., 1., 1., 1., 0., 1., 0., 0., 0., 0.,\n",
       "       1., 0., 0., 0., 1., 1., 0., 0., 1., 1., 0., 0., 0., 1., 0., 1., 0.,\n",
       "       0., 0., 0., 1., 0., 0., 1., 1., 1., 0., 0., 0., 1., 1., 0., 1., 1.,\n",
       "       0., 1., 1., 1., 1., 0., 1., 0., 0., 1., 0., 1., 0., 0., 1., 1., 1.,\n",
       "       1., 1., 1., 0., 1., 1., 0., 1., 0., 1., 1., 0., 1., 0., 1., 1., 1.,\n",
       "       1., 0., 1., 1., 0., 0., 0., 1., 1., 0., 1., 0., 1., 0., 1., 1., 1.,\n",
       "       1., 1., 0., 0., 1., 1., 0., 1., 0., 1., 0., 1., 0., 1., 0., 0., 1.,\n",
       "       1., 0., 1., 1., 1., 0., 0., 0., 1., 0., 1., 0., 1., 0., 1., 0., 0.,\n",
       "       0., 1., 0., 0., 0., 1., 1., 0., 0., 1., 1., 0., 1., 0., 0., 1., 0.,\n",
       "       0., 0., 0., 1., 0., 1., 1., 0., 0., 0., 0., 1., 0., 1., 1., 0., 0.,\n",
       "       0., 0., 0., 1., 1., 0., 1., 1., 1., 1., 0., 1., 0., 1., 1., 1., 1.,\n",
       "       1., 0., 1., 1., 1., 0., 0., 0., 0., 0., 1., 0., 0., 0., 1., 0., 0.,\n",
       "       0., 1., 1., 0., 0., 0., 1., 1., 1., 1., 1., 0., 0., 1., 0., 1., 0.,\n",
       "       0., 1., 1., 1., 1., 0., 1., 1., 1., 1., 0., 1., 0., 0., 0., 0., 0.,\n",
       "       0., 0., 0., 1., 1., 0., 1., 1., 1., 1., 1., 1., 1., 0., 0., 0., 0.,\n",
       "       1., 0., 0., 1., 1., 1., 0., 1., 0., 1., 1., 0., 0., 1., 0., 1., 1.,\n",
       "       1., 1., 0., 1., 1., 0., 0., 0., 0., 0., 0., 1., 1., 0., 1., 1., 0.,\n",
       "       0., 1., 0., 1., 1., 1., 1., 1., 0., 0., 0., 0., 1., 0., 1., 0., 1.,\n",
       "       0., 0., 1., 0., 1., 0., 0., 1., 1., 1., 1., 1., 1., 0., 1., 0., 0.,\n",
       "       1., 1., 0., 1., 1., 1., 0., 1., 0., 1., 1., 0., 0., 0., 0., 0., 0.,\n",
       "       0., 1., 0., 0., 1., 0., 1., 1., 1., 1., 0., 0., 1., 1., 1., 0., 1.,\n",
       "       0., 1., 0., 1., 1., 0., 1., 1., 1., 1., 0., 0., 1., 0., 0., 0., 0.,\n",
       "       0., 1., 1., 0., 1., 0., 0., 0., 1., 1., 1., 1., 0., 0., 0., 1., 0.,\n",
       "       0., 1., 0., 0., 0., 0., 1., 0., 0., 0., 0., 1., 0., 1., 1., 1., 0.,\n",
       "       0., 0., 1., 0., 1., 1., 0., 1., 1., 0., 1., 0., 0., 1., 0., 0., 0.,\n",
       "       0., 1., 1., 1., 0., 1., 0., 1., 0., 1., 0., 0., 1., 1., 1., 1., 0.,\n",
       "       0., 1., 1., 0., 0., 1., 0., 0., 1., 0., 0., 0., 1., 0., 1., 1., 1.,\n",
       "       0., 0., 0., 0., 1., 0., 0., 0., 1., 1., 1., 0., 1., 1., 0., 1., 1.,\n",
       "       0., 1., 0., 0., 0., 0., 1., 0., 0., 1., 1., 1., 1., 1., 1., 0., 1.,\n",
       "       1., 1., 1., 0., 1., 1., 0., 1., 1., 1., 0., 0., 0., 0., 0., 1., 1.,\n",
       "       0., 1., 0., 0., 1., 1., 0., 0., 0., 1., 0., 1., 1., 1., 0., 1., 0.,\n",
       "       1., 1., 0., 1., 0., 0., 0., 1., 1., 0., 1., 0., 0., 1., 1., 1., 0.,\n",
       "       0., 0., 0., 1., 0., 0., 0., 0., 1., 0., 0., 0., 1., 1., 0., 0., 0.,\n",
       "       1., 1., 0., 1., 1., 1., 1., 1., 1., 1., 0., 0., 0., 0., 1., 1., 0.,\n",
       "       1., 1., 0., 0., 0., 0., 1., 1., 1., 1., 0., 1., 1., 0., 0., 0., 0.,\n",
       "       1., 1., 1., 0., 0., 0., 0., 1., 1., 1., 0., 0., 0., 1., 0., 1., 1.,\n",
       "       1., 1., 0., 0., 1., 1., 1., 0., 1., 0., 1., 0., 0., 0., 0., 0., 1.,\n",
       "       1., 0., 1., 0., 0., 0., 1., 0., 0., 1., 1., 1., 1., 0., 0., 0., 1.,\n",
       "       1., 1., 1., 0., 1., 0., 0., 0., 0., 0., 1., 1., 1., 0., 1., 0., 0.,\n",
       "       0., 1., 0., 1., 0., 1., 1., 1., 0., 1., 1., 1., 0., 1., 1., 1., 1.,\n",
       "       1., 1., 0., 0., 1., 1., 1., 0., 1., 1., 1., 1., 0., 1., 1., 0., 0.,\n",
       "       1., 1., 1., 1., 1., 0., 1., 0., 1., 0., 1., 1., 1., 1., 1., 1., 0.,\n",
       "       0., 1., 0., 0., 1., 0., 0., 1., 1., 1., 1., 1., 1., 0., 0., 0., 1.,\n",
       "       0., 1., 0., 1., 0., 1., 0., 0., 1., 1., 0., 0., 0., 1., 1., 1., 1.,\n",
       "       1., 1., 0., 1., 1., 0., 0., 1., 0., 1., 0., 1., 0., 0., 1., 1., 1.,\n",
       "       1., 1., 0., 1., 1., 1., 1., 0., 0., 0., 1., 1., 1., 0., 0., 1., 0.,\n",
       "       0., 0., 1., 0., 1., 0., 1., 0., 0., 1., 0., 0., 1., 1., 1., 0., 1.,\n",
       "       1., 0., 1., 1., 1., 1., 0., 0., 1., 1., 1., 0., 1., 1., 1., 1., 1.,\n",
       "       1., 1., 1., 0., 0., 1., 0., 1., 0., 0., 1., 1., 0., 1., 0., 1., 1.,\n",
       "       0., 0., 1., 1., 0., 0., 0., 1., 1., 0., 1., 0., 1., 1., 0., 0., 0.,\n",
       "       1., 0., 1., 1., 1., 0., 0., 1., 0., 1., 1., 0., 1., 1., 1., 0., 0.,\n",
       "       0., 0., 1., 0., 0., 0., 0., 0., 0., 0., 1., 1., 0., 0., 1., 0., 1.,\n",
       "       0., 0., 1., 0., 0., 0., 0., 0., 0., 0., 0., 0., 0., 0., 1., 0., 0.,\n",
       "       0., 0., 0., 1., 0., 1., 0., 0., 1., 1., 1., 0., 0., 1., 1., 1., 1.,\n",
       "       0., 1., 0., 1., 1., 0., 1., 0., 1., 1., 1., 1., 1., 0., 0., 1., 0.,\n",
       "       1., 1., 1., 0., 1., 1., 0., 0., 1., 0., 1., 1., 1., 0.])"
      ]
     },
     "execution_count": 39,
     "metadata": {},
     "output_type": "execute_result"
    }
   ],
   "source": [
    "# y_test"
   ]
  },
  {
   "cell_type": "code",
   "execution_count": null,
   "id": "75c9e800-e486-4859-9cf0-349ff117f8f1",
   "metadata": {},
   "outputs": [],
   "source": []
  }
 ],
 "metadata": {
  "kernelspec": {
   "display_name": "SS",
   "language": "python",
   "name": "myenv"
  },
  "language_info": {
   "codemirror_mode": {
    "name": "ipython",
    "version": 3
   },
   "file_extension": ".py",
   "mimetype": "text/x-python",
   "name": "python",
   "nbconvert_exporter": "python",
   "pygments_lexer": "ipython3",
   "version": "3.10.9"
  }
 },
 "nbformat": 4,
 "nbformat_minor": 5
}
